{
 "cells": [
  {
   "cell_type": "code",
   "execution_count": 4,
   "id": "093b5646",
   "metadata": {},
   "outputs": [
    {
     "data": {
      "text/plain": [
       "[1, 5, 3, 4, 5]"
      ]
     },
     "execution_count": 4,
     "metadata": {},
     "output_type": "execute_result"
    }
   ],
   "source": [
    "def contein(data):                #ստուգում է զանգվածը դատարկ է թե ոչ\n",
    "    if len(data) != 0:\n",
    "        return True\n",
    "    else:\n",
    "        return False\n",
    "    \n",
    "\n",
    "def pop(data, i):                 #ջնջում է վերջին էլեմենտը եթե i տրված չէ, եթե տրված է ջնջում է i րդ ինդեքսով էլեմենտը\n",
    "    if i != None:\n",
    "        del(data[i])\n",
    "    else:\n",
    "        del(data[len(data) - 1])\n",
    "    return data\n",
    "\n",
    "\n",
    "pop([1, 5, 3, 5, 4, 5], 3)"
   ]
  },
  {
   "cell_type": "code",
   "execution_count": null,
   "id": "22c228d5",
   "metadata": {},
   "outputs": [],
   "source": [
    "def remove_all(arr, value):            #Ջնջում է բոլոր այն էլեմենտները վորոնք հավասար են տրված value արժեքին\n",
    "    size = len(arr)\n",
    "    count = 0\n",
    "    if contein(arr):\n",
    "        for i in range(0, size - 1):\n",
    "            if arr[i] == value:\n",
    "                del(arr[i])\n",
    "                count += 1\n",
    "                \n",
    "    print(count)    \n",
    "    return arr\n",
    "\n",
    "arr = [1, 7, 2, 7, 3, 7, 4, 5, 10, 7, 7]\n",
    "\n",
    "remove_all(arr, 7)\n"
   ]
  },
  {
   "cell_type": "code",
   "execution_count": 2,
   "id": "7ca6f109",
   "metadata": {},
   "outputs": [
    {
     "name": "stdout",
     "output_type": "stream",
     "text": [
      "min = 1 max = 30\n"
     ]
    },
    {
     "data": {
      "text/plain": [
       "[1, 2, 4, 4, 5, 6, 7, 7, 7, 9, 30]"
      ]
     },
     "execution_count": 2,
     "metadata": {},
     "output_type": "execute_result"
    }
   ],
   "source": [
    "def bable_sort_min_max(data):                #բաբլ սորթ ալգօրիթմով զանգվածը վերադասավորվում ե ըստ աճման կարգի \n",
    "    a = len(data)\n",
    "    counter = 0\n",
    "    for i in range(0, a - 1):\n",
    "        is_sorted = True\n",
    "        for j in range(0, a - 1 - i):\n",
    "            if data[j] > data[j + 1]:\n",
    "                (data[j], data[j + 1]) = (data[j + 1], data[j])\n",
    "                is_sorted = False\n",
    "        if is_sorted:\n",
    "            break\n",
    "    print(\"min =\", data[0] , \"max =\", data[len(data) - 1])\n",
    "    return data    \n",
    "data = [1, 2, 4, 9, 7, 30, 4, 5, 6, 7, 7]\n",
    "\n",
    "\n",
    "bable_sort_min_max(data)\n",
    "\n",
    "\n",
    "# երկու ալգորիթմ չգրելու համար միանգամից օգտագործել եմ բաբլ սորտը"
   ]
  },
  {
   "cell_type": "code",
   "execution_count": null,
   "id": "bb5b97d6",
   "metadata": {},
   "outputs": [],
   "source": []
  }
 ],
 "metadata": {
  "kernelspec": {
   "display_name": "Python 3 (ipykernel)",
   "language": "python",
   "name": "python3"
  },
  "language_info": {
   "codemirror_mode": {
    "name": "ipython",
    "version": 3
   },
   "file_extension": ".py",
   "mimetype": "text/x-python",
   "name": "python",
   "nbconvert_exporter": "python",
   "pygments_lexer": "ipython3",
   "version": "3.9.12"
  }
 },
 "nbformat": 4,
 "nbformat_minor": 5
}
