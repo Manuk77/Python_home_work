{
 "cells": [
  {
   "cell_type": "code",
   "execution_count": 8,
   "id": "d6752a58",
   "metadata": {},
   "outputs": [
    {
     "data": {
      "text/plain": [
       "330"
      ]
     },
     "execution_count": 8,
     "metadata": {},
     "output_type": "execute_result"
    }
   ],
   "source": [
    "\"\"\" Վարժություն 1.12\n",
    "Ստորև պատկերված աղյուսակը կոչվում է Պասկալի եռանկյունի (Pascal’s triangle) Եռանկյան \n",
    "\n",
    "Եռանկյան կողմերում գտնվող բոլոր թվերը հավասար են 1-ի, իսկ եռանկյան\n",
    "ներսում գտնվող թվերից յուրաքանչյուրը հավասար է նրա վերևի երկու թվերի\n",
    "գումարին։ Գրեք ռեկուրսիվ ֆունկցիա, որը հաշվում է Պասկալի եռանկյունու\n",
    "անդամի արժեքը։\n",
    "\n",
    "\"\"\"\n",
    "\n",
    "def paskal(m, n):\n",
    "    if m == n or n == 1:\n",
    "        return 1\n",
    "    else:\n",
    "        return paskal(m - 1, n - 1) + paskal(m - 1, n)\n",
    "\n",
    "paskal(12,8)\n",
    "    "
   ]
  },
  {
   "cell_type": "code",
   "execution_count": null,
   "id": "c3ae528e",
   "metadata": {},
   "outputs": [],
   "source": []
  }
 ],
 "metadata": {
  "kernelspec": {
   "display_name": "Python 3 (ipykernel)",
   "language": "python",
   "name": "python3"
  },
  "language_info": {
   "codemirror_mode": {
    "name": "ipython",
    "version": 3
   },
   "file_extension": ".py",
   "mimetype": "text/x-python",
   "name": "python",
   "nbconvert_exporter": "python",
   "pygments_lexer": "ipython3",
   "version": "3.9.12"
  }
 },
 "nbformat": 4,
 "nbformat_minor": 5
}
