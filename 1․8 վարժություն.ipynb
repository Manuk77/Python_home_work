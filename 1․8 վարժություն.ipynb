{
 "cells": [
  {
   "cell_type": "code",
   "execution_count": 7,
   "id": "6f70dddd",
   "metadata": {},
   "outputs": [
    {
     "data": {
      "text/plain": [
       "1.3160740129524924"
      ]
     },
     "execution_count": 7,
     "metadata": {},
     "output_type": "execute_result"
    }
   ],
   "source": [
    "\"\"\" Վարժություն 1.8\n",
    "Նյուտոնի մեթոդը խորանարդ արմատ հաշվելու համար հիմնված է հետևյալ\n",
    "քայլերի վրա. եթե n-ը m թվի մոտարկված արմատն է, ապա մենք կարող ենք էլ\n",
    "ավելի բարելավել մոտարկումը հետևայլ քայլով\n",
    "((m / (n ** 2)) + (2 * n)) / 3\n",
    "Այս բանաձևով ստեղծեք ֆունկցիա, որը հաշվում է թվի խորանարդ արմատը։\"\"\"\n",
    "\n",
    "    \n",
    "def root to the nth power(m, n):\n",
    "    if m == 0:\n",
    "        return 0\n",
    "    if n == 0:\n",
    "        return 1\n",
    "    \n",
    "    return m**(1 / n)\n",
    "\n",
    "\n",
    "sqrt_pow(3,4)\n",
    "        \n",
    "    "
   ]
  },
  {
   "cell_type": "code",
   "execution_count": null,
   "id": "ef3c345a",
   "metadata": {},
   "outputs": [],
   "source": []
  }
 ],
 "metadata": {
  "kernelspec": {
   "display_name": "Python 3 (ipykernel)",
   "language": "python",
   "name": "python3"
  },
  "language_info": {
   "codemirror_mode": {
    "name": "ipython",
    "version": 3
   },
   "file_extension": ".py",
   "mimetype": "text/x-python",
   "name": "python",
   "nbconvert_exporter": "python",
   "pygments_lexer": "ipython3",
   "version": "3.9.12"
  }
 },
 "nbformat": 4,
 "nbformat_minor": 5
}
