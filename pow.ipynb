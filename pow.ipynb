{
 "cells": [
  {
   "cell_type": "code",
   "execution_count": null,
   "metadata": {},
   "outputs": [],
   "source": [
    "def pow(base,exp):\n",
    "    result=1\n",
    "    count=0\n",
    "    if base >0 or base<0:\n",
    "        if exp>0:\n",
    "            while count<exp:\n",
    "                result *=base\n",
    "                count +=1\n",
    "        elif exp<0:\n",
    "            result *= ((1/base)**(-exp))\n",
    "        else:\n",
    "            return result\n",
    "    else:\n",
    "        return 0\n",
    "    return result\n",
    "\n",
    "pow(5,6)"
   ]
  }
 ],
 "metadata": {
  "language_info": {
   "name": "python"
  },
  "orig_nbformat": 4
 },
 "nbformat": 4,
 "nbformat_minor": 2
}
