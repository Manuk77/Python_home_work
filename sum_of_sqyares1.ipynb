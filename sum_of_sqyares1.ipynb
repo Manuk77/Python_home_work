{
 "cells": [
  {
   "cell_type": "code",
   "execution_count": 3,
   "metadata": {},
   "outputs": [
    {
     "data": {
      "text/plain": [
       "74"
      ]
     },
     "execution_count": 3,
     "metadata": {},
     "output_type": "execute_result"
    }
   ],
   "source": [
    "#Վարժություն 1.3\n",
 "\"\"\"Ստեղծեք ֆունկցիա, որը որպես արգումենտ ստանում է երեք թվեր և\n",
"վերադարձնում է դրանցից երկու մեծագույնների քառակուսիների գումարը։\"\"\"\n",
    "\n",
    "def sum_of_squares(num1,num2,num3):\n",
    "    if num1<=num2 and num1<=num3:\n",
    "        return (num2**2)+(num3**2)\n",
    "    elif num2<=num1 and num2<=num3:\n",
    "        return (num1**2)+(num3**2)\n",
    "    else:\n",
    "        return (num1**2)+(num2**2)\n",
    "\n",
    "sum_of_squares(3,5,7)\n",
    "    "
   ]
  },
  {
   "cell_type": "code",
   "execution_count": null,
   "metadata": {},
   "outputs": [],
   "source": []
  }
 ],
 "metadata": {
  "kernelspec": {
   "display_name": "Python 3.9.12 ('base')",
   "language": "python",
   "name": "python3"
  },
  "language_info": {
   "codemirror_mode": {
    "name": "ipython",
    "version": 3
   },
   "file_extension": ".py",
   "mimetype": "text/x-python",
   "name": "python",
   "nbconvert_exporter": "python",
   "pygments_lexer": "ipython3",
   "version": "3.9.12"
  },
  "orig_nbformat": 4,
  "vscode": {
   "interpreter": {
    "hash": "f08154012ddadd8e950e6e9e035c7a7b32c136e7647e9b7c77e02eb723a8bedb"
   }
  }
 },
 "nbformat": 4,
 "nbformat_minor": 2
}
