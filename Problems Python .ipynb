{
 "cells": [
  {
   "cell_type": "code",
   "execution_count": 4,
   "id": "1e48f2fe",
   "metadata": {},
   "outputs": [
    {
     "name": "stdout",
     "output_type": "stream",
     "text": [
      "156324789\n",
      "revers num = 987423651\n"
     ]
    }
   ],
   "source": [
    "def revers_num(n: int):             #N1\n",
    "    reverse = \" \"\n",
    "    while True:\n",
    "        if n / 10 != 0:\n",
    "            reverse += str(n % 10)\n",
    "            n = n // 10\n",
    "        else:\n",
    "            break\n",
    "    return int(reverse)\n",
    "\n",
    "\n",
    "n = int(input())\n",
    "print(f'revers num = {revers_num(n)}')\n"
   ]
  },
  {
   "cell_type": "code",
   "execution_count": 17,
   "id": "12846768",
   "metadata": {},
   "outputs": [
    {
     "name": "stdout",
     "output_type": "stream",
     "text": [
      "1 2 3 4 5\n",
      "num = 12345\n"
     ]
    }
   ],
   "source": [
    "def tupl_to_num(data: tuple):            #N2\n",
    "    res = \"\"\n",
    "    for elem in data:\n",
    "        res += str(elem)\n",
    "    return res\n",
    "\n",
    "\n",
    "data = tuple(input().split(\" \"))\n",
    "\n",
    "print(f'num = {tupl_to_num(data)}')\n",
    "\n"
   ]
  },
  {
   "cell_type": "code",
   "execution_count": 14,
   "id": "d83851f5",
   "metadata": {},
   "outputs": [
    {
     "name": "stdout",
     "output_type": "stream",
     "text": [
      "data1[0] , data2[0]\n",
      "data1[1] , data2[1]\n",
      "data1[2] , data2[2]\n",
      "data1[3] , data2[3]\n",
      "data1[4] , data2[4]\n"
     ]
    }
   ],
   "source": [
    "def zip(data1, data2):              #N3\n",
    "    \n",
    "    \"\"\"նախորդ տնայինից 3րդ\n",
    "    Գրել zip(data1, data2) ֆունկցիա, որը կվերադարձնի նոր լիստ, հետևյալ տեսքով [ [data1[0], data2[0]], \n",
    "    [data1[1], data2[1]], … [data1[n - 1], data2[n - 1] ], որտեղ n-ը data1-ի և data2-ի երկարությունն է\n",
    "    \"\"\"\n",
    "    \n",
    "    if len(data1) == len(data2):\n",
    "        for i in range(len(data1)):\n",
    "            print(f'data1{[i]} , data2{[i]}')\n",
    "    else:\n",
    "        return 0\n",
    "\n",
    "       \n",
    "zip([1, 2, 3, 4, 5], [1, 3, 8, 4, 5])       \n",
    "         "
   ]
  },
  {
   "cell_type": "code",
   "execution_count": 10,
   "id": "721b45bc",
   "metadata": {},
   "outputs": [
    {
     "name": "stdout",
     "output_type": "stream",
     "text": [
      "counter = 12 \n",
      "\n",
      "min = 0 \t max = 95 \n",
      " \n",
      "sum min and max = 95\n"
     ]
    }
   ],
   "source": [
    "def sum_of_min_max(data):            #N3\n",
    "    a = len(data)\n",
    "    x = 0\n",
    "    counter = 0\n",
    "    for i in range(0, a - 1):\n",
    "        is_sorted = True\n",
    "        for j in range(0, a - 1 - i):\n",
    "            if data[j] > data[j + 1]:\n",
    "                data[j], data[j + 1] = data[j + 1], data[j]\n",
    "                is_sorted = False\n",
    "                counter += 1\n",
    "        if is_sorted:\n",
    "            break\n",
    "    print(f'counter = {counter} \\n')\n",
    "    print(f'min = {data[0]} \\t max = {data[a - 1]} \\n ')\n",
    "    x = data[0] + data[a - 1]\n",
    "    print(f'sum min and max = {x}')\n",
    "    \n",
    "\n",
    "sum_of_min_max([7, 52, 10, 36, 74, 95, 0, 25])\n"
   ]
  },
  {
   "cell_type": "code",
   "execution_count": 11,
   "id": "0b0c5556",
   "metadata": {},
   "outputs": [
    {
     "name": "stdout",
     "output_type": "stream",
     "text": [
      "15\n",
      "\n",
      "\n",
      " even indexes are -> 0 \t \n",
      " even indexes are -> 2 \t \n",
      " even indexes are -> 4 \t \n",
      " even indexes are -> 6 \t \n",
      " even indexes are -> 8 \t \n",
      " even indexes are -> 10 \t \n",
      " even indexes are -> 12 \t \n",
      " even indexes are -> 14 \t \n"
     ]
    }
   ],
   "source": [
    "def print_even_indexes(arr):                 #4\n",
    "    for i in range(len(arr)):\n",
    "        if i % 2 == 0:\n",
    "            print(f' even indexes are -> {i} \\t ')\n",
    "\n",
    "n = int(input())\n",
    "print(\"\\n\")\n",
    "arr = [None] * n\n",
    "\n",
    "print_even_indexes(arr)"
   ]
  },
  {
   "cell_type": "code",
   "execution_count": 24,
   "id": "8bfde3ab",
   "metadata": {},
   "outputs": [
    {
     "name": "stdout",
     "output_type": "stream",
     "text": [
      "barev dzez\n",
      "\n",
      "\n"
     ]
    },
    {
     "data": {
      "text/plain": [
       "'zezd verab'"
      ]
     },
     "execution_count": 24,
     "metadata": {},
     "output_type": "execute_result"
    }
   ],
   "source": [
    "def reverse_word(word: str):    #N5\n",
    "    res = \"\"\n",
    "    res = word[::-1]\n",
    "    return res\n",
    "\n",
    "word = input()\n",
    "print(\"\\n\")\n",
    "reverse_word(word)\n"
   ]
  },
  {
   "cell_type": "code",
   "execution_count": 5,
   "id": "f2e30347",
   "metadata": {},
   "outputs": [
    {
     "name": "stdout",
     "output_type": "stream",
     "text": [
      "month = 2\n",
      "\n",
      "\n",
      "year = 2020\n",
      "\n",
      "\n",
      "answer = 29\n"
     ]
    }
   ],
   "source": [
    "def count_of_days_in_moth(month: int, yera: int):      #N8\n",
    "    if month == 2: \n",
    "        if year % 4 == 0:\n",
    "            return 29\n",
    "        return 28\n",
    "    elif month % 2 == 0 and month != 6:\n",
    "        return 30\n",
    "    return 31\n",
    "\n",
    "month = int(input(\"month = \" ))\n",
    "print(\"\\n\")\n",
    "year = int(input(\"year = \"))\n",
    "print(\"\\n\")\n",
    "\n",
    "print(f'answer = {count_of_days_in_moth(month, year)}')\n",
    "\n",
    "    "
   ]
  },
  {
   "cell_type": "code",
   "execution_count": 12,
   "id": "44ee460f",
   "metadata": {},
   "outputs": [
    {
     "name": "stdout",
     "output_type": "stream",
     "text": [
      "n = 16\n"
     ]
    },
    {
     "data": {
      "text/plain": [
       "'=/4?$nX!DK^ytlLP'"
      ]
     },
     "execution_count": 12,
     "metadata": {},
     "output_type": "execute_result"
    }
   ],
   "source": [
    "from random import randint        #N9\n",
    "\n",
    "def random_passwd(n: int):\n",
    "    passwrd = ''\n",
    "    for i in range(n):\n",
    "        num = randint(33, 126)\n",
    "        passwrd += chr(num)\n",
    "    return passwrd\n",
    "\n",
    "n = int(input(\"n = \"))\n",
    "random_passwd(n)\n"
   ]
  },
  {
   "cell_type": "code",
   "execution_count": null,
   "id": "eefee45f",
   "metadata": {},
   "outputs": [],
   "source": []
  }
 ],
 "metadata": {
  "kernelspec": {
   "display_name": "Python 3 (ipykernel)",
   "language": "python",
   "name": "python3"
  },
  "language_info": {
   "codemirror_mode": {
    "name": "ipython",
    "version": 3
   },
   "file_extension": ".py",
   "mimetype": "text/x-python",
   "name": "python",
   "nbconvert_exporter": "python",
   "pygments_lexer": "ipython3",
   "version": "3.9.12"
  }
 },
 "nbformat": 4,
 "nbformat_minor": 5
}
