{
 "cells": [
  {
   "cell_type": "code",
   "execution_count": 6,
   "metadata": {},
   "outputs": [
    {
     "data": {
      "text/plain": [
       "18"
      ]
     },
     "execution_count": 6,
     "metadata": {},
     "output_type": "execute_result"
    }
   ],
   "source": [
    "#Վարժություն 1.6\n",
    "\"\"\"Իրականացնել նախորդ վարժությունում տրված ֆունկցիան՝ հաշվի առնելով, որ\n",
    "առաջին արգումենտը կարող է մեծ լինել երկրորդից։ Այդ դեպքում ֆունկցիան\n",
    "պետք է վերադարձնի b-ից մինչև a ամբողջ թվերի գումարը։\"\"\"\n",
    "\n",
    "def sum_of_int_values_between_a_and_b(a,b):\n",
    "    result=0\n",
    "    if a>b:\n",
    "        while b<=a:\n",
    "            result +=b\n",
    "            b +=1\n",
    "    else:\n",
    "        while a<=b:\n",
    "            result +=a\n",
    "            a +=1\n",
    "    return result\n",
    "\n",
    "sum_of_int_values_between_a_and_b(7,5)\n"
   ]
  }
 ],
 "metadata": {
  "kernelspec": {
   "display_name": "Python 3.10.4 64-bit",
   "language": "python",
   "name": "python3"
  },
  "language_info": {
   "codemirror_mode": {
    "name": "ipython",
    "version": 3
   },
   "file_extension": ".py",
   "mimetype": "text/x-python",
   "name": "python",
   "nbconvert_exporter": "python",
   "pygments_lexer": "ipython3",
   "version": "3.10.4"
  },
  "orig_nbformat": 4,
  "vscode": {
   "interpreter": {
    "hash": "afb734500600fd355917ca529030176ea0ca205570884b88f2f6f7d791fd3fbe"
   }
  }
 },
 "nbformat": 4,
 "nbformat_minor": 2
}
