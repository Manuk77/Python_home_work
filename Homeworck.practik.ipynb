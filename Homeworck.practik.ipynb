{
 "cells": [
  {
   "cell_type": "code",
   "execution_count": 1,
   "id": "2cb0c815",
   "metadata": {},
   "outputs": [
    {
     "name": "stdout",
     "output_type": "stream",
     "text": [
      " Manuk \n"
     ]
    }
   ],
   "source": [
    "print(\" Manuk \")                          #N1"
   ]
  },
  {
   "cell_type": "code",
   "execution_count": 3,
   "id": "e94eb31a",
   "metadata": {},
   "outputs": [
    {
     "name": "stdout",
     "output_type": "stream",
     "text": [
      "Manuk\n",
      "voxjyun Manuk\n"
     ]
    }
   ],
   "source": [
    "m = input()                              #N2\n",
    "print(f'voxjyun {m}')"
   ]
  },
  {
   "cell_type": "code",
   "execution_count": 5,
   "id": "1b89a0ab",
   "metadata": {},
   "outputs": [
    {
     "name": "stdout",
     "output_type": "stream",
     "text": [
      "10\n",
      "20\n",
      "200 մ^2\n"
     ]
    }
   ],
   "source": [
    "def makeres(m, n):                           #N3\n",
    "    print(f'{m*n} մ^2')\n",
    "\n",
    "m = int(input())\n",
    "n = int(input())\n",
    "\n",
    "makeres(m, n)"
   ]
  },
  {
   "cell_type": "code",
   "execution_count": 7,
   "id": "2d33b9fd",
   "metadata": {},
   "outputs": [
    {
     "name": "stdout",
     "output_type": "stream",
     "text": [
      "300\n",
      "450\n",
      "3.0991735537190084ակռ\n"
     ]
    }
   ],
   "source": [
    "def hoxi_makeres(m, n):                      #N4\n",
    "    res = (m*n)/43560\n",
    "    print(f'{res}ակռ')\n",
    "    \n",
    "m = int(input())\n",
    "n = int(input())\n",
    "\n",
    "hoxi_makeres(m, n)"
   ]
  },
  {
   "cell_type": "code",
   "execution_count": 9,
   "id": "a7dca24e",
   "metadata": {},
   "outputs": [
    {
     "name": "stdout",
     "output_type": "stream",
     "text": [
      "1\n",
      "15\n",
      "$3.75\n"
     ]
    }
   ],
   "source": [
    "def shshi_handznum(caval, count):                        #N5\n",
    "    res = 0\n",
    "    if count > 0:\n",
    "        if caval < 1:\n",
    "            arjeq = 0.10\n",
    "            res = count * arjeq\n",
    "        else:\n",
    "            arjeq = 0.25\n",
    "            res = count * arjeq\n",
    "        print(f'${round(res, 2)}')\n",
    "    else:\n",
    "        return 0\n",
    "    \n",
    "    \n",
    "    \n",
    "caval = int(input())\n",
    "count = int(input())\n",
    "\n",
    "shshi_handznum(caval, count)\n",
    "        "
   ]
  },
  {
   "cell_type": "code",
   "execution_count": 11,
   "id": "ebbdb694",
   "metadata": {},
   "outputs": [
    {
     "name": "stdout",
     "output_type": "stream",
     "text": [
      "152\n",
      "teyavchar@ = 27.36, hark@ = 30.4, vcharman entaka gumar@ = 57.76\n"
     ]
    }
   ],
   "source": [
    "def harker(gumar):                                #N6\n",
    "    if gumar > 0:\n",
    "        resTey = 0\n",
    "        resHark = 0\n",
    "        allSum = 0\n",
    "        resTey = tey(gumar)\n",
    "        resHark = hark(gumar)\n",
    "        allSum = tey(gumar) + hark(gumar)\n",
    "        \n",
    "    print(f'teyavchar@ = {resTey}, hark@ = {resHark}, vcharman entaka gumar@ = {allSum}')\n",
    "    \n",
    "    \n",
    "    \n",
    "def tey(gumar):\n",
    "    res = 0\n",
    "    res = round(gumar * 0.18, 2)\n",
    "    return res\n",
    "\n",
    "def hark(gumar):\n",
    "    res = 0\n",
    "    res = round(gumar * 0.20, 2)\n",
    "    \n",
    "    return res\n",
    "\n",
    "\n",
    "gumar = int(input())\n",
    "\n",
    "harker(gumar)"
   ]
  },
  {
   "cell_type": "code",
   "execution_count": 16,
   "id": "d76c08dd",
   "metadata": {},
   "outputs": [
    {
     "data": {
      "text/plain": [
       "28"
      ]
     },
     "execution_count": 16,
     "metadata": {},
     "output_type": "execute_result"
    }
   ],
   "source": [
    "def sum(m, n):                               #N7\n",
    "    if m < n:\n",
    "        res = 0\n",
    "        while m <= n:\n",
    "            res += m\n",
    "            m += 1\n",
    "        return res\n",
    "    \n",
    "    elif m > n:\n",
    "        res = 0\n",
    "        while n <= m:\n",
    "            res += n\n",
    "            n += 1\n",
    "        return res\n",
    "            \n",
    "    return n\n",
    "\n",
    "sum(7, 1)\n",
    "    "
   ]
  },
  {
   "cell_type": "code",
   "execution_count": 2,
   "id": "d823f262",
   "metadata": {},
   "outputs": [
    {
     "name": "stdout",
     "output_type": "stream",
     "text": [
      "15\n",
      "20\n",
      "17\n",
      "hushanveri qash = 22500գ \n",
      "\n",
      "manrunqi qash = 28560գ \n",
      "\n",
      "@ndanur qash = 51060գ \n",
      "\n"
     ]
    }
   ],
   "source": [
    "def sum_of_weigth(count, hush, manr):             #N8\n",
    "    resHush = hush*75*count\n",
    "    resManr = manr*112*count\n",
    "    resAll = resHush + resManr\n",
    "    print(f'hushanveri qash = {resHush}գ \\n')\n",
    "    print(f'manrunqi qash = {resManr}գ \\n')\n",
    "    print(f'@ndanur qash = {resAll}գ \\n')\n",
    "    \n",
    "    \n",
    "\n",
    "count = int(input())\n",
    "hush = int(input())\n",
    "manr = int(input())\n",
    "\n",
    "sum_of_weigth(count, hush, manr)\n",
    "  "
   ]
  },
  {
   "cell_type": "code",
   "execution_count": 9,
   "id": "b4a0d1a5",
   "metadata": {},
   "outputs": [
    {
     "name": "stdout",
     "output_type": "stream",
     "text": [
      "1547\n",
      "araji tarva gumar = 1608.88դր\n",
      "erkrord tarva gumar = 1673.24դր\n",
      "errord tarva gumar = 1740.16դր\n"
     ]
    }
   ],
   "source": [
    "from math import pow                   # N9\n",
    "def bard_tkos(gumar):\n",
    "    res = gumar*pow((1 + 0.04), 1)\n",
    "    print(f'araji tarva gumar = {round(res, 2)}դր')\n",
    "    res = gumar*pow((1 + 0.04), 2)\n",
    "    print(f'erkrord tarva gumar = {round(res, 2)}դր')\n",
    "    res = gumar*pow((1 + 0.04), 3)\n",
    "    print(f'errord tarva gumar = {round(res, 2)}դր')\n",
    "\n",
    "\n",
    "gumar = int(input())\n",
    "\n",
    "bard_tkos(gumar)\n",
    "        \n",
    "    "
   ]
  },
  {
   "cell_type": "code",
   "execution_count": 21,
   "id": "3f2fa353",
   "metadata": {},
   "outputs": [
    {
     "name": "stdout",
     "output_type": "stream",
     "text": [
      "47\n",
      "51\n",
      "sum is equal to 98 \n",
      "difference between a and b is equal to \t -4 \n",
      "division between a and b is equal to \t 0.9215686274509803 \n",
      " multiplikation a and b is equal to \t 2397\n",
      " int part of a divaiding by b is equal to \t 0\n",
      " a % b iqual to \t 47\n",
      " lg(a) is equal to \t  1.6720978579357173\n"
     ]
    }
   ],
   "source": [
    "def processes_with_two_nums(a, b):                     #N10\n",
    "    print(f'sum is equal to {a + b} ')\n",
    "    print(f'difference between a and b is equal to \\t {a - b} ')\n",
    "    print(f'division between a and b is equal to \\t {a / b} ')\n",
    "    print(f' multiplikation a and b is equal to \\t {a*b}')\n",
    "    print(f' int part of a divaiding by b is equal to \\t {int(a / b)}')\n",
    "    print(f' a % b iqual to \\t {a % b}')\n",
    "    print(f' lg(a) is equal to \\t  {math.log(a, 10)}')\n",
    "    \n",
    "import math\n",
    "\n",
    "a = int(input())\n",
    "b = int(input())\n",
    "\n",
    "processes_with_two_nums(a, b)"
   ]
  },
  {
   "cell_type": "code",
   "execution_count": 20,
   "id": "1d4b44e0",
   "metadata": {},
   "outputs": [
    {
     "name": "stdout",
     "output_type": "stream",
     "text": [
      "100\n",
      "\n",
      "\n",
      "liters-per-hundred kilometers is equal to  160.0 \n"
     ]
    }
   ],
   "source": [
    "def transformation_miles_kilometrs(miles):            #N11\n",
    "    \n",
    "    print(f'liters-per-hundred kilometers is equal to  {miles*1.6} ')\n",
    "    \n",
    "miles = int(input())\n",
    "print('\\n')\n",
    "\n",
    "transformation_miles_kilometrs(miles)"
   ]
  },
  {
   "cell_type": "code",
   "execution_count": 9,
   "id": "59321ad4",
   "metadata": {},
   "outputs": [
    {
     "name": "stdout",
     "output_type": "stream",
     "text": [
      "6\n",
      "76\n",
      "\n",
      "\n",
      "the high of persson convert from foot to cm is 182.88cm \n",
      "\n",
      "the high of persson covert from inches to cm is 193.04cm\n"
     ]
    }
   ],
   "source": [
    "def hight(foot, inches):                   #N12\n",
    "    print(f'the high of persson convert from foot to cm is {foot*30.48}cm \\n')\n",
    "    print(f'the high of persson covert from inches to cm is {inches*2.54}cm')\n",
    "          \n",
    "foot = int(input())\n",
    "inches = int(input())\n",
    "print('\\n')\n",
    "\n",
    "hight(foot, inches)\n",
    "          "
   ]
  },
  {
   "cell_type": "code",
   "execution_count": 19,
   "id": "0bf74ce8",
   "metadata": {},
   "outputs": [
    {
     "name": "stdout",
     "output_type": "stream",
     "text": [
      "412\n",
      "convrting from foot to inches \t 4944 inches\n",
      "converting from foot to yards \t 135.96 yards\n",
      "converting form foot to sea mile  0.06780654800000001 sea miles\n"
     ]
    }
   ],
   "source": [
    "def convert_lenght(foot):                    #N13\n",
    "    \n",
    "    print(f'convrting from foot to inches \\t {foot*12} inches')\n",
    "    print(f'converting from foot to yards \\t {foot*0.33} yards')\n",
    "    print(f'converting form foot to sea mile  {foot*0.000164579} sea miles')\n",
    "\n",
    "foot = int(input())\n",
    "\n",
    "convert_lenght(foot)"
   ]
  },
  {
   "cell_type": "code",
   "execution_count": 23,
   "id": "b28392a9",
   "metadata": {},
   "outputs": [
    {
     "name": "stdout",
     "output_type": "stream",
     "text": [
      "12\n",
      "\n",
      "\n",
      "area is equal to 452.39 սմ^2 \n",
      "\n",
      "volime is equal to 5428.67 սմ^3\n"
     ]
    }
   ],
   "source": [
    "def area_volume(radius):                  #N14\n",
    "    \n",
    "    print(f'area is equal to {round((math.pi*radius**2), 2)} սմ^2 \\n')\n",
    "    print(f'volime is equal to {round((math.pi*radius**3), 2)} սմ^3' )\n",
    "          \n",
    "\n",
    "import math        \n",
    "radius = int(input())\n",
    "print('\\n')         \n",
    "          \n",
    "area_volume(radius)\n",
    "          "
   ]
  },
  {
   "cell_type": "code",
   "execution_count": 26,
   "id": "5f4bdaca",
   "metadata": {},
   "outputs": [
    {
     "name": "stdout",
     "output_type": "stream",
     "text": [
      "15\n",
      "20\n",
      "\n",
      "\n",
      "cylinder_volume is equal to 9047.8 սմ^3\n"
     ]
    }
   ],
   "source": [
    "def cylinder_volume(rad, h):                #N15\n",
    "    \n",
    "    print(f'cylinder_volume is equal to {round((math.pi*radius**2*h), 1)} սմ^3')\n",
    "    \n",
    "import math\n",
    "\n",
    "rad = int(input())\n",
    "h = int(input())\n",
    "print('\\n')\n",
    "\n",
    "cylinder_volume(rad, h)"
   ]
  },
  {
   "cell_type": "code",
   "execution_count": 29,
   "id": "4e900e87",
   "metadata": {},
   "outputs": [
    {
     "name": "stdout",
     "output_type": "stream",
     "text": [
      "200\n",
      "\n",
      "\n",
      "speed at the moment of touching the ground \t 62.61 մ/վ\n"
     ]
    }
   ],
   "source": [
    "def speed(h):                          #N16\n",
    "    \"\"\"speed at the moment of touching the ground\"\"\"\n",
    "    \n",
    "    v = 0\n",
    "    a = 9.8\n",
    "    d = h\n",
    "    print(f'speed at the moment of touching the ground \\t {round(math.sqrt(v**2 + 2*a*d), 2)} մ/վ')\n",
    "    \n",
    "    \n",
    "import math\n",
    "h = int(input())\n",
    "print('\\n')\n",
    "speed(h)\n"
   ]
  },
  {
   "cell_type": "code",
   "execution_count": 30,
   "id": "7fce977f",
   "metadata": {},
   "outputs": [
    {
     "name": "stdout",
     "output_type": "stream",
     "text": [
      "15\n",
      "7\n",
      "\n",
      "\n",
      "square of triangle is equal to \t 52.5 սմ^2\n"
     ]
    }
   ],
   "source": [
    "def square_of_triangle(b, h):             #N17         \n",
    "    \n",
    "    print(f'square of triangle is equal to \\t {(b*h) / 2} սմ^2')\n",
    "\n",
    "    \n",
    "b = int(input())\n",
    "h = int(input())\n",
    "print('\\n')\n",
    "\n",
    "square_of_triangle(b, h)\n"
   ]
  },
  {
   "cell_type": "code",
   "execution_count": 34,
   "id": "3938f381",
   "metadata": {},
   "outputs": [
    {
     "name": "stdout",
     "output_type": "stream",
     "text": [
      "3\n",
      "4\n",
      "5\n",
      "\n",
      "\n",
      "square of triangle using all sides is equal to \t 77.77 սմ^2\n"
     ]
    }
   ],
   "source": [
    "def square_of_triangle_using_all_sides(s1, s2, s3):         #N18\n",
    "    \n",
    "    s = s1 + s2 + s3\n",
    "    print(f'square of triangle using all sides is equal to \\t {round(math.sqrt(s*(s - s1)*(s - s2)*(s - s3)), 2)} սմ^2')\n",
    "\n",
    "\n",
    "import math    \n",
    "s1 = int(input())\n",
    "s2 = int(input())\n",
    "s3 = int(input())\n",
    "print('\\n')\n",
    "\n",
    "square_of_triangle_using_all_sides(s1, s2, s3)\n"
   ]
  },
  {
   "cell_type": "code",
   "execution_count": 5,
   "id": "bcea3259",
   "metadata": {},
   "outputs": [
    {
     "name": "stdout",
     "output_type": "stream",
     "text": [
      "1\n",
      "25\n",
      "68\n",
      "12\n",
      "\n",
      "\n",
      "day = 2 \t hour = 2 \t minute = 8 \t second = 12 \n",
      "\n",
      "seconds in days, hours, minutes are equal to \t 180492 վրկ\n"
     ]
    }
   ],
   "source": [
    "def counting_time(day, hour, minute, second):     #N19\n",
    "    \n",
    "    if second > 0:\n",
    "        if second >= 60:\n",
    "            minute += int(second / 60)\n",
    "            second = second % 60\n",
    "    else:\n",
    "        second = 0\n",
    "    if minute > 0 :\n",
    "        if minute >= 60:\n",
    "            hour += int(minute / 60)\n",
    "            minute = minute % 60\n",
    "    else:\n",
    "        minute = 0\n",
    "    \n",
    "    if hour > 0:\n",
    "        if hour >= 24:\n",
    "            day += int(hour / 24)\n",
    "            hour = hour % 24\n",
    "    else:\n",
    "        hour = 0\n",
    "    print(f'day = {day} \\t hour = {hour} \\t minute = {minute} \\t second = {second} \\n' )\n",
    "        \n",
    "    print(f'seconds in days, hours, minutes are equal to \\t {day*24*3600 + hour*3600 + minute*60 + second} վրկ')\n",
    "\n",
    "day = int(input())\n",
    "hour = int(input())\n",
    "minute = int(input())\n",
    "second = int(input())\n",
    "print('\\n')\n",
    "\n",
    "\n",
    "counting_time(day, hour, minute, second)\n"
   ]
  },
  {
   "cell_type": "code",
   "execution_count": 1,
   "id": "b203b04d",
   "metadata": {},
   "outputs": [
    {
     "name": "stdout",
     "output_type": "stream",
     "text": [
      "Tue Jun 21 23:08:21 2022\n"
     ]
    }
   ],
   "source": [
    "import time                     #N20\n",
    "\n",
    "print(time.asctime())"
   ]
  },
  {
   "cell_type": "code",
   "execution_count": 4,
   "id": "9f5dcd29",
   "metadata": {},
   "outputs": [
    {
     "name": "stdout",
     "output_type": "stream",
     "text": [
      "February\n",
      "February has 28 or 29 days \n"
     ]
    }
   ],
   "source": [
    "def name_of_month(month):                      #N21\n",
    "    \n",
    "    if month == \"January\" or month == \"1\":\n",
    "        day = 31\n",
    "        print(f'January has {day} days')\n",
    "    elif month == \"February\" or month == \"2\":\n",
    "        day1 = 28\n",
    "        day2 = 29\n",
    "        print(f'February has {day1} or {day2} days ')\n",
    "    elif month == \"March\" or month == \"3\":\n",
    "        day = 31\n",
    "        print(f'March has {day} days ')\n",
    "    elif month == \"April\" or month == \"4\":\n",
    "        day = 30\n",
    "        print(f'April has {day} days ')\n",
    "    elif month == \"May\" or month == \"5\":\n",
    "        day = 31\n",
    "        print(f'May has {day} days')\n",
    "    elif month == \"June\" or month == \"6\":\n",
    "        day = 30\n",
    "        print(f'June has {day} days')\n",
    "    elif month == \"July\" or month == \"7\":\n",
    "        day = 31\n",
    "        print(f'July has {day} days')\n",
    "    elif month == \"August\" or month == \"8\":\n",
    "        day = 31\n",
    "        print(f'August has {day} days')\n",
    "    elif month == \"September\" or month == \"9\":\n",
    "        day = 30\n",
    "        print(f'September has {day} days')\n",
    "    elif month == \"October\" or month == \"10\":\n",
    "        day = 31\n",
    "        print(f'October has {day} days')\n",
    "    elif month == \"November\" or month == \"11\":\n",
    "        day = 30\n",
    "        print(f'November has {day} days')\n",
    "    elif month == \"December\" or month == \"12\":\n",
    "        day = 31\n",
    "        print(f'December has {day} days')\n",
    "    else:\n",
    "        return 0\n",
    "    \n",
    "\n",
    "    \n",
    "month = input()\n",
    "\n",
    "name_of_month(month)\n"
   ]
  },
  {
   "cell_type": "code",
   "execution_count": 8,
   "id": "04a9ee4d",
   "metadata": {},
   "outputs": [
    {
     "name": "stdout",
     "output_type": "stream",
     "text": [
      "j\n",
      "j symbol is consonant\n"
     ]
    }
   ],
   "source": [
    "def ABC(symbol):                           #N22\n",
    "    \n",
    "    if symbol == \"a\" or symbol == \"e\" or symbol == \"i\" or symbol == \"o\" or symbol == \"u\":\n",
    "        print(f'{symbol} symbol is vocal')\n",
    "    elif symbol == \"y\":\n",
    "        print(f'{symbol} symbol could be vocal and consonant')\n",
    "    else:\n",
    "        print(f'{symbol} symbol is consonant')\n",
    "        \n",
    "\n",
    "symbol = input()\n",
    "\n",
    "ABC(symbol)\n"
   ]
  },
  {
   "cell_type": "code",
   "execution_count": 13,
   "id": "1049988f",
   "metadata": {},
   "outputs": [
    {
     "name": "stdout",
     "output_type": "stream",
     "text": [
      "December\n",
      "30\n",
      "Imported is a winter date\n"
     ]
    }
   ],
   "source": [
    "def sessons(month, day):                   #N23\n",
    "    \n",
    "    if day > 0 and len(month) > 0:\n",
    "        if (month == \"January\" and  day <= 31) or (month == \"February\" and day <= 29) or (month == \"March\" and day <= 31):\n",
    "            print(f'Imported is a spring date')\n",
    "        elif (month == \"April\" and  day <= 30) or (month == \"May\" and day <= 31) or (month == \"June\" and day <= 30):\n",
    "            print(f'Imported is a summer date')\n",
    "        elif (month == \"July\" and  day <= 31) or (month == \"August\" and day <= 31) or (month == \"September\" and day <= 30):\n",
    "            print(f'Imported is a autumn date')\n",
    "        elif (month == \"October\" and  day <= 31) or (month == \"November\" and day <= 30) or (month == \"December\" and day <= 31):\n",
    "            print(f'Imported is a winter date')\n",
    "        else:\n",
    "            print(f'Imported is wrong data')\n",
    "    else:\n",
    "        print(f'Imported is wrong data')\n",
    "    \n",
    "month = input()\n",
    "day = int(input())\n",
    "\n",
    "sessons(month, day)\n"
   ]
  },
  {
   "cell_type": "code",
   "execution_count": 19,
   "id": "1cee6034",
   "metadata": {},
   "outputs": [
    {
     "name": "stdout",
     "output_type": "stream",
     "text": [
      "100\n",
      "fizz, 3 divides by 3 \n",
      "\n",
      "bazz, 5 divides by 5 \n",
      "\n",
      "fizz, 6 divides by 3 \n",
      "\n",
      "fizz, 9 divides by 3 \n",
      "\n",
      "bazz, 10 divides by 5 \n",
      "\n",
      "fizz, 12 divides by 3 \n",
      "\n",
      "fizz bazz, 15 divides by 3 an 5 \n",
      "\n",
      "fizz, 18 divides by 3 \n",
      "\n",
      "bazz, 20 divides by 5 \n",
      "\n",
      "fizz, 21 divides by 3 \n",
      "\n",
      "fizz, 24 divides by 3 \n",
      "\n",
      "bazz, 25 divides by 5 \n",
      "\n",
      "fizz, 27 divides by 3 \n",
      "\n",
      "fizz bazz, 30 divides by 3 an 5 \n",
      "\n",
      "fizz, 33 divides by 3 \n",
      "\n",
      "bazz, 35 divides by 5 \n",
      "\n",
      "fizz, 36 divides by 3 \n",
      "\n",
      "fizz, 39 divides by 3 \n",
      "\n",
      "bazz, 40 divides by 5 \n",
      "\n",
      "fizz, 42 divides by 3 \n",
      "\n",
      "fizz bazz, 45 divides by 3 an 5 \n",
      "\n",
      "fizz, 48 divides by 3 \n",
      "\n",
      "bazz, 50 divides by 5 \n",
      "\n",
      "fizz, 51 divides by 3 \n",
      "\n",
      "fizz, 54 divides by 3 \n",
      "\n",
      "bazz, 55 divides by 5 \n",
      "\n",
      "fizz, 57 divides by 3 \n",
      "\n",
      "fizz bazz, 60 divides by 3 an 5 \n",
      "\n",
      "fizz, 63 divides by 3 \n",
      "\n",
      "bazz, 65 divides by 5 \n",
      "\n",
      "fizz, 66 divides by 3 \n",
      "\n",
      "fizz, 69 divides by 3 \n",
      "\n",
      "bazz, 70 divides by 5 \n",
      "\n",
      "fizz, 72 divides by 3 \n",
      "\n",
      "fizz bazz, 75 divides by 3 an 5 \n",
      "\n",
      "fizz, 78 divides by 3 \n",
      "\n",
      "bazz, 80 divides by 5 \n",
      "\n",
      "fizz, 81 divides by 3 \n",
      "\n",
      "fizz, 84 divides by 3 \n",
      "\n",
      "bazz, 85 divides by 5 \n",
      "\n",
      "fizz, 87 divides by 3 \n",
      "\n",
      "fizz bazz, 90 divides by 3 an 5 \n",
      "\n",
      "fizz, 93 divides by 3 \n",
      "\n",
      "bazz, 95 divides by 5 \n",
      "\n",
      "fizz, 96 divides by 3 \n",
      "\n",
      "fizz, 99 divides by 3 \n",
      "\n",
      "bazz, 100 divides by 5 \n",
      "\n"
     ]
    }
   ],
   "source": [
    "def fizz_bazz(n):            #N26\n",
    "    \n",
    "    i = 0\n",
    "    res = 1\n",
    "    while i < n:\n",
    "        if res % 3 == 0 and res % 5 == 0:\n",
    "            print(f'fizz bazz, {res} divides by 3 an 5 \\n')\n",
    "        elif res % 3 == 0:\n",
    "            print(f'fizz, {res} divides by 3 \\n')\n",
    "        elif res % 5 == 0:\n",
    "            print(f'bazz, {res} divides by 5 \\n')\n",
    "        \n",
    "        \n",
    "        i += 1\n",
    "        res +=1\n",
    "n = int(input())\n",
    "\n",
    "fizz_bazz(n)\n",
    "        "
   ]
  },
  {
   "cell_type": "code",
   "execution_count": null,
   "id": "ffb556a9",
   "metadata": {},
   "outputs": [],
   "source": []
  }
 ],
 "metadata": {
  "kernelspec": {
   "display_name": "Python 3 (ipykernel)",
   "language": "python",
   "name": "python3"
  },
  "language_info": {
   "codemirror_mode": {
    "name": "ipython",
    "version": 3
   },
   "file_extension": ".py",
   "mimetype": "text/x-python",
   "name": "python",
   "nbconvert_exporter": "python",
   "pygments_lexer": "ipython3",
   "version": "3.9.12"
  }
 },
 "nbformat": 4,
 "nbformat_minor": 5
}
